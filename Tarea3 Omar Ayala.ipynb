{
 "cells": [
  {
   "cell_type": "markdown",
   "id": "aa0788d3",
   "metadata": {},
   "source": [
    "# Tarea 3\n",
    "\n",
    "## Omar Ayala Aguayo\n",
    "\n",
    "### Parte 1"
   ]
  },
  {
   "cell_type": "code",
   "execution_count": 1,
   "id": "daf2b87a",
   "metadata": {},
   "outputs": [],
   "source": [
    "def calcular_distancia(punto1,punto2):\n",
    "    if len(punto1)!=len(punto2):\n",
    "        print(\"Las dimensiones de los puntos no coinciden\")\n",
    "    else: \n",
    "        aux=0\n",
    "        for i in range(len(punto1)):\n",
    "            aux=aux+(punto1[i]-punto2[i])**2\n",
    "        return aux**(1/2)\n",
    "\n",
    "def calcular_distancia_total(ruta):\n",
    "    aux=0\n",
    "    for i in range(len(ruta)-1):\n",
    "        aux=aux+calcular_distancia(ruta[i],ruta[i+1])\n",
    "    return aux\n",
    "\n",
    "def optimizacion_ruta(rutas):\n",
    "    opt=rutas[0]\n",
    "    for i in range(len(rutas)-1):\n",
    "        if calcular_distancia_total(rutas[i+1])<calcular_distancia_total(rutas[i]):\n",
    "            opt=rutas[i+1]   \n",
    "    return opt"
   ]
  },
  {
   "cell_type": "markdown",
   "id": "bc216292",
   "metadata": {},
   "source": [
    "Arriba defino las tres funciones a ocupar en esta parte de la tarea.\n",
    "\n",
    "Las funciones están pensadas para ser usadas con puntos de dimension $ N $\n",
    "\n",
    "En este caso, como $ N=2 $, los puntos pertenecen a $ \\mathbb{R}^2 $\n",
    "\n",
    "Las funciones son también compatibles con rutas de cualquier largo.\n",
    "\n",
    "A continuación valido mi código con los datos ofrecidos en la tarea."
   ]
  },
  {
   "cell_type": "code",
   "execution_count": 2,
   "id": "7fbcade2",
   "metadata": {},
   "outputs": [
    {
     "name": "stdout",
     "output_type": "stream",
     "text": [
      "Distancia: 3.1622776601683795\n"
     ]
    }
   ],
   "source": [
    "punto1=(0,0)\n",
    "punto2=(1,3)\n",
    "distancia=calcular_distancia(punto1,punto2)\n",
    "print(\"Distancia:\",distancia)"
   ]
  },
  {
   "cell_type": "code",
   "execution_count": 3,
   "id": "e6b66bb8",
   "metadata": {},
   "outputs": [
    {
     "name": "stdout",
     "output_type": "stream",
     "text": [
      "Distancia Total: 9.59625606037856\n"
     ]
    }
   ],
   "source": [
    "ruta=[(0,0),(1,3),(3,5),(5,2)]\n",
    "distancia_total=calcular_distancia_total(ruta)\n",
    "print(\"Distancia Total:\", distancia_total)\n"
   ]
  },
  {
   "cell_type": "code",
   "execution_count": 4,
   "id": "0f5fffb8",
   "metadata": {},
   "outputs": [
    {
     "name": "stdout",
     "output_type": "stream",
     "text": [
      "Distancia Total: 12.782484645209152\n"
     ]
    }
   ],
   "source": [
    "ruta=[(0,0),(3,5),(1,3),(5,2)]\n",
    "distancia_total=calcular_distancia_total(ruta)\n",
    "print(\"Distancia Total:\", distancia_total)"
   ]
  },
  {
   "cell_type": "code",
   "execution_count": 5,
   "id": "d414fde5",
   "metadata": {},
   "outputs": [
    {
     "name": "stdout",
     "output_type": "stream",
     "text": [
      "Distancia Total: 13.559608795926952\n"
     ]
    }
   ],
   "source": [
    "ruta=[(0,0),(3,5),(5,2),(1,3)]\n",
    "distancia_total=calcular_distancia_total(ruta)\n",
    "print(\"Distancia Total:\", distancia_total)"
   ]
  },
  {
   "cell_type": "code",
   "execution_count": 6,
   "id": "700a44a2",
   "metadata": {},
   "outputs": [
    {
     "name": "stdout",
     "output_type": "stream",
     "text": [
      "Ruta optimizada: [(0, 0), (1, 3), (3, 5), (5, 2)]\n"
     ]
    }
   ],
   "source": [
    "rutas=[[(0,0),(1,3),(3,5),(5,2)],\n",
    "       [(0,0),(3,5),(1,3),(5,2)],\n",
    "       [(0,0),(3,5),(5,2),(1,3)]]\n",
    "ruta_optimizada=optimizacion_ruta(rutas)\n",
    "print(\"Ruta optimizada:\",ruta_optimizada)"
   ]
  },
  {
   "cell_type": "markdown",
   "id": "8c66b9b2",
   "metadata": {},
   "source": [
    "### Parte 2"
   ]
  },
  {
   "cell_type": "code",
   "execution_count": 7,
   "id": "eedef316",
   "metadata": {},
   "outputs": [],
   "source": [
    "class Libro():\n",
    "    def __init__(self, titulo, autor, disponibilidad=\"Si\"):\n",
    "        self.titulo=titulo\n",
    "        self.autor=autor\n",
    "        self.disponibilidad=disponibilidad\n",
    "        \n",
    "    def obtener_titulo(self):\n",
    "        return self.titulo\n",
    "        \n",
    "    def obtener_autor(self):\n",
    "        return self.autor\n",
    "        \n",
    "    def esta_disponible(self):\n",
    "        return self.disponibilidad\n",
    "        \n",
    "    def libro_prestado(self):\n",
    "        if self.disponibilidad==\"Si\":\n",
    "            self.disponibilidad=\"No\"\n",
    "            print(\"El libro {} de autor {} ha sido prestado.\".format(self.obtener_titulo(), self.obtener_autor()))\n",
    "            return self.disponibilidad\n",
    "        else:\n",
    "            print(\"El libro {} de autor {} no está disponible.\".format(self.obtener_titulo(), self.obtener_autor()))\n",
    "   \n",
    "\n",
    "    def devolver_libro(self):\n",
    "        if self.disponibilidad==\"No\":\n",
    "            self.disponibilidad=\"Si\"\n",
    "            print(\"El libro {} de autor {} ha sido devuelto.\".format(self.obtener_titulo(), self.obtener_autor()))\n",
    "            return self.disponibilidad\n",
    "        else:\n",
    "            print(\"Error, el libro {} de autor {} ya estaba disponible.\".format(self.obtener_titulo(), self.obtener_autor()))"
   ]
  },
  {
   "cell_type": "markdown",
   "id": "50bdf0ed",
   "metadata": {},
   "source": [
    "Arriba defino la clase libro y los métodos solicitados.\n",
    "\n",
    "A continuación valido mi código con los datos de la tarea."
   ]
  },
  {
   "cell_type": "code",
   "execution_count": 8,
   "id": "22759226",
   "metadata": {},
   "outputs": [
    {
     "name": "stdout",
     "output_type": "stream",
     "text": [
      "Libro 1: Veinte poemas de amor y una canción desesperada de autor Pablo Neruda\n",
      "Disponibilidad: Si\n",
      "Libro 2: Don Quijote de la Mancha de autor Miguel de Cervantes\n",
      "Disponibilidad: Si\n"
     ]
    }
   ],
   "source": [
    "libro1=Libro(\"Veinte poemas de amor y una canción desesperada\",\"Pablo Neruda\")\n",
    "libro2=Libro(\"Don Quijote de la Mancha\",\"Miguel de Cervantes\")\n",
    "\n",
    "\n",
    "print(\"Libro 1: {} de autor {}\".format(libro1.obtener_titulo(), libro1.obtener_autor()))\n",
    "print(\"Disponibilidad: {}\".format(libro1.esta_disponible()))\n",
    "\n",
    "print(\"Libro 2: {} de autor {}\".format(libro2.obtener_titulo(), libro2.obtener_autor()))\n",
    "print(\"Disponibilidad: {}\".format(libro2.esta_disponible()))"
   ]
  },
  {
   "cell_type": "code",
   "execution_count": 9,
   "id": "d51589b5",
   "metadata": {},
   "outputs": [
    {
     "name": "stdout",
     "output_type": "stream",
     "text": [
      "El libro Veinte poemas de amor y una canción desesperada de autor Pablo Neruda ha sido prestado.\n",
      "Libro 1: Veinte poemas de amor y una canción desesperada de autor Pablo Neruda\n",
      "Disponibilidad: No\n"
     ]
    }
   ],
   "source": [
    "libro1.libro_prestado()\n",
    "\n",
    "print(\"Libro 1: {} de autor {}\".format(libro1.obtener_titulo(), libro1.obtener_autor()))\n",
    "print(\"Disponibilidad: {}\".format(libro1.esta_disponible()))"
   ]
  },
  {
   "cell_type": "code",
   "execution_count": 10,
   "id": "f250ec33",
   "metadata": {},
   "outputs": [
    {
     "name": "stdout",
     "output_type": "stream",
     "text": [
      "El libro Veinte poemas de amor y una canción desesperada de autor Pablo Neruda no está disponible.\n",
      "Libro 1: Veinte poemas de amor y una canción desesperada de autor Pablo Neruda\n",
      "Disponibilidad: No\n"
     ]
    }
   ],
   "source": [
    "libro1.libro_prestado()\n",
    "\n",
    "print(\"Libro 1: {} de autor {}\".format(libro1.obtener_titulo(), libro1.obtener_autor()))\n",
    "print(\"Disponibilidad: {}\".format(libro1.esta_disponible()))"
   ]
  },
  {
   "cell_type": "code",
   "execution_count": 11,
   "id": "0ad3b92b",
   "metadata": {},
   "outputs": [
    {
     "name": "stdout",
     "output_type": "stream",
     "text": [
      "El libro Veinte poemas de amor y una canción desesperada de autor Pablo Neruda ha sido devuelto.\n",
      "Libro 1: Veinte poemas de amor y una canción desesperada de autor Pablo Neruda\n",
      "Disponibilidad: Si\n"
     ]
    }
   ],
   "source": [
    "libro1.devolver_libro()\n",
    "\n",
    "print(\"Libro 1: {} de autor {}\".format(libro1.obtener_titulo(), libro1.obtener_autor()))\n",
    "print(\"Disponibilidad: {}\".format(libro1.esta_disponible()))"
   ]
  },
  {
   "cell_type": "code",
   "execution_count": 12,
   "id": "819664d5",
   "metadata": {},
   "outputs": [
    {
     "name": "stdout",
     "output_type": "stream",
     "text": [
      "Error, el libro Don Quijote de la Mancha de autor Miguel de Cervantes ya estaba disponible.\n",
      "Libro 1: Don Quijote de la Mancha de autor Miguel de Cervantes\n",
      "Disponibilidad: Si\n"
     ]
    }
   ],
   "source": [
    "libro2.devolver_libro()\n",
    "\n",
    "print(\"Libro 1: {} de autor {}\".format(libro2.obtener_titulo(), libro2.obtener_autor()))\n",
    "print(\"Disponibilidad: {}\".format(libro2.esta_disponible()))"
   ]
  }
 ],
 "metadata": {
  "kernelspec": {
   "display_name": "Python 3 (ipykernel)",
   "language": "python",
   "name": "python3"
  },
  "language_info": {
   "codemirror_mode": {
    "name": "ipython",
    "version": 3
   },
   "file_extension": ".py",
   "mimetype": "text/x-python",
   "name": "python",
   "nbconvert_exporter": "python",
   "pygments_lexer": "ipython3",
   "version": "3.10.9"
  }
 },
 "nbformat": 4,
 "nbformat_minor": 5
}
